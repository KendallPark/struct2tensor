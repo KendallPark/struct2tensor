{
 "cells": [
  {
   "cell_type": "markdown",
   "metadata": {
    "colab_type": "text",
    "id": "PHuwKiTF02Zq"
   },
   "source": [
    "# Intro to struct2tensor"
   ]
  },
  {
   "cell_type": "code",
   "execution_count": 1,
   "metadata": {},
   "outputs": [
    {
     "name": "stdout",
     "output_type": "stream",
     "text": [
      "Requirement already satisfied: struct2tensor in /usr/local/google/home/npolyzotis/copybara/temp/folder-destination799627907054734705/prensors_37/lib/python3.7/site-packages (0.0.1.dev5)\n",
      "Requirement already satisfied: protobuf>=3.8.0 in /usr/local/google/home/npolyzotis/copybara/temp/folder-destination799627907054734705/prensors_37/lib/python3.7/site-packages (from struct2tensor) (3.10.0)\n",
      "Requirement already satisfied: tensorflow-metadata>=0.13.0 in /usr/local/google/home/npolyzotis/copybara/temp/folder-destination799627907054734705/prensors_37/lib/python3.7/site-packages (from struct2tensor) (0.15.0)\n",
      "Requirement already satisfied: tensorflow==1.15.0 in /usr/local/google/home/npolyzotis/copybara/temp/folder-destination799627907054734705/prensors_37/lib/python3.7/site-packages (from struct2tensor) (1.15.0)\n",
      "Requirement already satisfied: six>=1.9 in /usr/local/google/home/npolyzotis/copybara/temp/folder-destination799627907054734705/prensors_37/lib/python3.7/site-packages (from protobuf>=3.8.0->struct2tensor) (1.12.0)\n",
      "Requirement already satisfied: setuptools in /usr/local/google/home/npolyzotis/copybara/temp/folder-destination799627907054734705/prensors_37/lib/python3.7/site-packages (from protobuf>=3.8.0->struct2tensor) (41.4.0)\n",
      "Requirement already satisfied: googleapis-common-protos in /usr/local/google/home/npolyzotis/copybara/temp/folder-destination799627907054734705/prensors_37/lib/python3.7/site-packages (from tensorflow-metadata>=0.13.0->struct2tensor) (1.6.0)\n",
      "Requirement already satisfied: tensorboard<1.16.0,>=1.15.0 in /usr/local/google/home/npolyzotis/copybara/temp/folder-destination799627907054734705/prensors_37/lib/python3.7/site-packages (from tensorflow==1.15.0->struct2tensor) (1.15.0)\n",
      "Requirement already satisfied: numpy<2.0,>=1.16.0 in /usr/local/google/home/npolyzotis/copybara/temp/folder-destination799627907054734705/prensors_37/lib/python3.7/site-packages (from tensorflow==1.15.0->struct2tensor) (1.17.3)\n",
      "Requirement already satisfied: termcolor>=1.1.0 in /usr/local/google/home/npolyzotis/copybara/temp/folder-destination799627907054734705/prensors_37/lib/python3.7/site-packages (from tensorflow==1.15.0->struct2tensor) (1.1.0)\n",
      "Requirement already satisfied: google-pasta>=0.1.6 in /usr/local/google/home/npolyzotis/copybara/temp/folder-destination799627907054734705/prensors_37/lib/python3.7/site-packages (from tensorflow==1.15.0->struct2tensor) (0.1.7)\n",
      "Requirement already satisfied: absl-py>=0.7.0 in /usr/local/google/home/npolyzotis/copybara/temp/folder-destination799627907054734705/prensors_37/lib/python3.7/site-packages (from tensorflow==1.15.0->struct2tensor) (0.8.1)\n",
      "Requirement already satisfied: gast==0.2.2 in /usr/local/google/home/npolyzotis/copybara/temp/folder-destination799627907054734705/prensors_37/lib/python3.7/site-packages (from tensorflow==1.15.0->struct2tensor) (0.2.2)\n",
      "Requirement already satisfied: wrapt>=1.11.1 in /usr/local/google/home/npolyzotis/copybara/temp/folder-destination799627907054734705/prensors_37/lib/python3.7/site-packages (from tensorflow==1.15.0->struct2tensor) (1.11.2)\n",
      "Requirement already satisfied: wheel>=0.26 in /usr/local/google/home/npolyzotis/copybara/temp/folder-destination799627907054734705/prensors_37/lib/python3.7/site-packages (from tensorflow==1.15.0->struct2tensor) (0.33.6)\n",
      "Requirement already satisfied: keras-applications>=1.0.8 in /usr/local/google/home/npolyzotis/copybara/temp/folder-destination799627907054734705/prensors_37/lib/python3.7/site-packages (from tensorflow==1.15.0->struct2tensor) (1.0.8)\n",
      "Requirement already satisfied: opt-einsum>=2.3.2 in /usr/local/google/home/npolyzotis/copybara/temp/folder-destination799627907054734705/prensors_37/lib/python3.7/site-packages (from tensorflow==1.15.0->struct2tensor) (3.1.0)\n",
      "Requirement already satisfied: grpcio>=1.8.6 in /usr/local/google/home/npolyzotis/copybara/temp/folder-destination799627907054734705/prensors_37/lib/python3.7/site-packages (from tensorflow==1.15.0->struct2tensor) (1.24.1)\n",
      "Requirement already satisfied: astor>=0.6.0 in /usr/local/google/home/npolyzotis/copybara/temp/folder-destination799627907054734705/prensors_37/lib/python3.7/site-packages (from tensorflow==1.15.0->struct2tensor) (0.8.0)\n",
      "Requirement already satisfied: keras-preprocessing>=1.0.5 in /usr/local/google/home/npolyzotis/copybara/temp/folder-destination799627907054734705/prensors_37/lib/python3.7/site-packages (from tensorflow==1.15.0->struct2tensor) (1.1.0)\n",
      "Requirement already satisfied: tensorflow-estimator==1.15.1 in /usr/local/google/home/npolyzotis/copybara/temp/folder-destination799627907054734705/prensors_37/lib/python3.7/site-packages (from tensorflow==1.15.0->struct2tensor) (1.15.1)\n",
      "Requirement already satisfied: werkzeug>=0.11.15 in /usr/local/google/home/npolyzotis/copybara/temp/folder-destination799627907054734705/prensors_37/lib/python3.7/site-packages (from tensorboard<1.16.0,>=1.15.0->tensorflow==1.15.0->struct2tensor) (0.16.0)\n",
      "Requirement already satisfied: markdown>=2.6.8 in /usr/local/google/home/npolyzotis/copybara/temp/folder-destination799627907054734705/prensors_37/lib/python3.7/site-packages (from tensorboard<1.16.0,>=1.15.0->tensorflow==1.15.0->struct2tensor) (3.1.1)\n",
      "Requirement already satisfied: h5py in /usr/local/google/home/npolyzotis/copybara/temp/folder-destination799627907054734705/prensors_37/lib/python3.7/site-packages (from keras-applications>=1.0.8->tensorflow==1.15.0->struct2tensor) (2.10.0)\n",
      "Requirement already satisfied: graphviz in /usr/local/google/home/npolyzotis/copybara/temp/folder-destination799627907054734705/prensors_37/lib/python3.7/site-packages (0.13)\n"
     ]
    }
   ],
   "source": [
    "!pip install struct2tensor\n",
    "!pip install graphviz"
   ]
  },
  {
   "cell_type": "markdown",
   "metadata": {
    "colab_type": "text",
    "id": "w2RkJ6mN2Y6-"
   },
   "source": [
    "## Imports and helper functions"
   ]
  },
  {
   "cell_type": "code",
   "execution_count": 2,
   "metadata": {
    "cellView": "code",
    "colab": {},
    "colab_type": "code",
    "id": "lc5KF8MILYrS",
    "scrolled": true
   },
   "outputs": [],
   "source": [
    "import base64\n",
    "import numpy as np\n",
    "import pprint\n",
    "import os\n",
    "import tensorflow\n",
    "from graphviz import Source\n",
    "\n",
    "# We are in the world of TFjupyter notebook -i 0.0.0.0 2.0 \\o/\n",
    "import tensorflow.compat.v2 as tf\n",
    "tf.enable_v2_behavior()\n",
    "# TODO(b/73292591): Remove once type annotations work in AutoGraph.\n",
    "tf.autograph.set_verbosity(0, False)\n",
    "\n",
    "from IPython.display import Image\n",
    "from IPython.lib import pretty\n",
    "\n",
    "from struct2tensor.prensor import Prensor\n",
    "from struct2tensor.path import Path\n",
    "from struct2tensor.expression_impl.proto import create_expression_from_proto \n",
    "from struct2tensor.calculate import calculate_prensors \n",
    "from struct2tensor.calculate_options import get_default_options\n",
    "from struct2tensor.prensor_util import get_sparse_tensors\n",
    "from struct2tensor.test import test_pb2\n",
    "from google.protobuf import text_format\n",
    "\n",
    "\n",
    "def _display(graph):\n",
    "  \"\"\"Renders a graphviz digraph.\"\"\"\n",
    "\n",
    "  s = Source(graph)\n",
    "  s.format='svg'\n",
    "  return s\n",
    "    \n",
    "\n",
    "def _create_query_from_text_sessions(text_sessions):\n",
    "  \"\"\"Creates a struct2tensor query from a list of pbtxt of struct2tensor.test.Session.\"\"\"\n",
    "\n",
    "  sessions = tf.constant([\n",
    "      text_format.Merge(text_session, test_pb2.Session()).SerializeToString()\n",
    "      for text_session in text_sessions\n",
    "  ])\n",
    "  return create_expression_from_proto(sessions, test_pb2.Session.DESCRIPTOR)\n",
    "\n",
    "\n",
    "def _unpack_sparse_tensors(dict_of_sp):\n",
    "  \"\"\"Unpacks SparseTensors in dict_of_sp into tuples of components.\"\"\"\n",
    "\n",
    "  return {\n",
    "      k: (v.dense_shape, v.indices, v.values) for k, v in dict_of_sp.items()\n",
    "  }\n",
    "\n",
    "\n",
    "def _pack_sparse_tensors(dict_of_tuple):\n",
    "  \"\"\"Packs the tuples back to SparseTensors.\"\"\"\n",
    "\n",
    "  return {\n",
    "      k: tf.SparseTensor(dense_shape=v[0], indices=v[1], values=v[2])\n",
    "      for k, v in dict_of_tuple.items()\n",
    "  }\n",
    "\n",
    "\n",
    "def _prensor_pretty_printer(prensor, p, cycle):\n",
    "  \"\"\"Pretty printing function for Prensor\"\"\"\n",
    "  pretty.pprint(get_sparse_tensors(prensor, options=get_default_options()))\n",
    "\n",
    "def _sp_pretty_printer(sp, p, cycle):\n",
    "  \"\"\"Pretty printing function for SparseTensor.\"\"\"\n",
    "\n",
    "  del cycle\n",
    "  p.begin_group(4, \"SparseTensor(\")\n",
    "  p.text(\"values={}, \".format(sp.values.numpy().tolist()))\n",
    "  p.text(\"dense_shape={}, \".format(sp.dense_shape.numpy().tolist()))\n",
    "  p.break_()\n",
    "  p.text(\"indices={}\".format(sp.indices.numpy().tolist()))\n",
    "  p.end_group(4, \")\")\n",
    "\n",
    "\n",
    "pretty.for_type(tf.SparseTensor, _sp_pretty_printer)\n",
    "pretty.for_type(Prensor, _prensor_pretty_printer)\n",
    "\n",
    "_pretty_print = pretty.pprint\n"
   ]
  },
  {
   "cell_type": "markdown",
   "metadata": {
    "colab_type": "text",
    "id": "HhjbtwS72qPD"
   },
   "source": [
    "## What is struct2tensor\n",
    "\n",
    "**struct2tensor** is a library that provides:\n",
    "\n",
    "*   A way to define and compose declarative **expressions** that operate on and transform structured data.\n",
    "*   A representation of structured data as tensors (**prensors**). \n",
    "*   A method to compile a (composite) expression into a TensorFlow graph that performs the evaluation on prensor \n",
    "    inputs and produces prensor outputs.\n",
    "*   Ways to extract model-friendly (Sparse, Raggged, Dense, ...) tensors out of prensors.\n",
    "\n",
    "This means that you can build a structured-data parsing and manipulation layer inside your TensorFlow model!\n",
    "\n"
   ]
  },
  {
   "cell_type": "markdown",
   "metadata": {
    "colab_type": "text",
    "id": "7ozCmoF33ogj"
   },
   "source": [
    "### A motivating example\n",
    "\n",
    "Suppose we have in our hand data stored as the following proto:\n",
    "\n",
    "```\n",
    "message Session{\n",
    "  message SessionInfo {\n",
    "    string session_feature = 1;\n",
    "    double session_duration_sec = 2;\n",
    "  }\n",
    "  SessionInfo session_info = 1;\n",
    "  message Event {\n",
    "    string query = 1;\n",
    "    message Action {\n",
    "      int number_of_views = 1;\n",
    "    }\n",
    "    repeated Action action = 2;\n",
    "  }\n",
    "  repeated Event event = 2;\n",
    "}\n",
    "```\n",
    "\n",
    "and we want to train a model from the data.\n",
    "\n",
    "In only 3 steps struct2tensor can help you extract all the fields you are interested in and produce batch-aligned SparseTensors.\n",
    "\n",
    "1. Identify the examples to our model: let's say,  **`event`** (submessage `Session::Event`).\n",
    "2. Pick the proto fields that we think are good features, say:\n",
    "  * `session_info.session_feature`\n",
    "  * `event.query`\n",
    "3. Identify the label to predict, say  **`event.action.number_of_views`**  (the actual label could be sum(action.number_of_views for action in event))\n",
    "\n",
    "\n",
    "With all the above, we can build the following struct2tensor query that parses instances of this protocol buffer, transforms the fields we care about, and generetes the necessary SparseTensors. (Don't worry about the terminology for now. We will explain it later.):"
   ]
  },
  {
   "cell_type": "code",
   "execution_count": 3,
   "metadata": {
    "colab": {},
    "colab_type": "code",
    "id": "ZC-oUzvBoPjA"
   },
   "outputs": [],
   "source": [
    "@tf.function(input_signature=[tf.TensorSpec(shape=(None), dtype=tf.string)])\n",
    "def parse_session(serialized_sessions):\n",
    "  \"\"\"A TF function parsing a batch of serialized Session protos into tensors.\n",
    "\n",
    "  It is a TF graph that takes one 1-D tensor as input, and outputs a\n",
    "  Dict[str, tf.SparseTensor] (due to a bug in TF 2.0, it actually cannot\n",
    "  output tf.SparseTensor, hence _{un,}pack_sparse_tensors).\n",
    "  \"\"\"\n",
    "  query = create_expression_from_proto(serialized_sessions, test_pb2.Session.DESCRIPTOR)\n",
    "  # Move all the fields of our interest to under \"event\".  \n",
    "  query = query.promote_and_broadcast({\n",
    "          \"session_feature\": \"session_info.session_feature\",\n",
    "          \"action_number_of_views\": \"event.action.number_of_views\" },\n",
    "          \"event\")\n",
    "  # Specify \"event\" to be examples.\n",
    "  query = query.reroot(\"event\")\n",
    "  # Extract all the fields of our interest.\n",
    "  projection = query.project([\"session_feature\", \"query\", \"action_number_of_views\"])\n",
    "  prensors = calculate_prensors([projection])\n",
    "    \n",
    "  output_sparse_tensors = {}\n",
    "  for prensor in prensors:\n",
    "    path_to_tensor = get_sparse_tensors(prensor, options=get_default_options())\n",
    "    output_sparse_tensors.update({str(k): v for k, v in path_to_tensor.items()})\n",
    "  \n",
    "  # TF2.0 bug: tf.function cannot return tf.SparseTensor.\n",
    "  return _unpack_sparse_tensors(output_sparse_tensors)"
   ]
  },
  {
   "cell_type": "markdown",
   "metadata": {
    "colab_type": "text",
    "id": "VKp4SxTgPzpe"
   },
   "source": [
    "To see this in action:"
   ]
  },
  {
   "cell_type": "code",
   "execution_count": 4,
   "metadata": {
    "colab": {
     "height": 125
    },
    "colab_type": "code",
    "executionInfo": {
     "elapsed": 356,
     "status": "ok",
     "timestamp": 1549909367199,
     "user": {
      "displayName": "",
      "photoUrl": "",
      "userId": ""
     },
     "user_tz": 480
    },
    "id": "-cIlFypdPeZX",
    "outputId": "e42d0b4e-ff3e-4ace-a029-5dfc88f29e8f"
   },
   "outputs": [
    {
     "name": "stdout",
     "output_type": "stream",
     "text": [
      "{'query': SparseTensor(values=[b'Hello', b'world'], dense_shape=[2], \n",
      "     indices=[[0], [1]]),\n",
      " 'action_number_of_views': SparseTensor(values=[1, 2, 3], dense_shape=[2, 2], \n",
      "     indices=[[0, 0], [1, 0], [1, 1]]),\n",
      " 'session_feature': SparseTensor(values=[b'foo', b'foo'], dense_shape=[2, 1], \n",
      "     indices=[[0, 0], [1, 0]])}\n"
     ]
    }
   ],
   "source": [
    "serialized_sessions = tf.constant([\n",
    "    text_format.Merge(\n",
    "\"\"\"\n",
    "session_info {\n",
    "  session_duration_sec: 1.0\n",
    "  session_feature: \"foo\"\n",
    "}\n",
    "event {\n",
    "  query: \"Hello\"\n",
    "  action {\n",
    "    number_of_views: 1\n",
    "  }\n",
    "  action {\n",
    "  }\n",
    "}\n",
    "event {\n",
    "  query: \"world\"\n",
    "  action {\n",
    "    number_of_views: 2\n",
    "  }\n",
    "  action {\n",
    "    number_of_views: 3\n",
    "  }\n",
    "}\n",
    "\"\"\",\n",
    "test_pb2.Session()).SerializeToString()\n",
    "])\n",
    "\n",
    "_pretty_print(\n",
    "    # TF2.0 bug: tf.function cannot return tf.SparseTensor\n",
    "    _pack_sparse_tensors(\n",
    "        parse_session(serialized_sessions)))\n"
   ]
  },
  {
   "cell_type": "markdown",
   "metadata": {
    "colab_type": "text",
    "id": "QY7wy_6loF4v"
   },
   "source": [
    "\n",
    "Interested and want to learn more? Read on...\n",
    "\n",
    "Let's define several terms we mentioned before:\n",
    "\n",
    "### Prensor\n",
    "\n",
    "A Prensor is a data structure storing the data we work on.\n",
    "\n",
    "For example, throughout this colab we will be using proto\n",
    "[`struct2tensor.test.Session`](http://cs/symbol:struct2tensor.test.Session). A schematic visualization\n",
    "of a selected part of the prensor from that proto looks like:"
   ]
  },
  {
   "cell_type": "code",
   "execution_count": 5,
   "metadata": {
    "colab": {
     "height": 552
    },
    "colab_type": "code",
    "executionInfo": {
     "elapsed": 2525,
     "status": "ok",
     "timestamp": 1549909373033,
     "user": {
      "displayName": "",
      "photoUrl": "",
      "userId": ""
     },
     "user_tz": 480
    },
    "id": "ZTjNwx4bBXFk",
    "outputId": "ae08af97-ad03-4f60-a11e-ccbfaf7f768f"
   },
   "outputs": [
    {
     "data": {
      "image/svg+xml": [
       "<?xml version=\"1.0\" encoding=\"UTF-8\" standalone=\"no\"?>\n",
       "<!DOCTYPE svg PUBLIC \"-//W3C//DTD SVG 1.1//EN\"\n",
       " \"http://www.w3.org/Graphics/SVG/1.1/DTD/svg11.dtd\">\n",
       "<!-- Generated by graphviz version 2.40.1 (20161225.0304)\n",
       " -->\n",
       "<!-- Title: %3 Pages: 1 -->\n",
       "<svg width=\"278pt\" height=\"392pt\"\n",
       " viewBox=\"0.00 0.00 278.19 392.00\" xmlns=\"http://www.w3.org/2000/svg\" xmlns:xlink=\"http://www.w3.org/1999/xlink\">\n",
       "<g id=\"graph0\" class=\"graph\" transform=\"scale(1 1) rotate(0) translate(4 388)\">\n",
       "<title>%3</title>\n",
       "<polygon fill=\"#ffffff\" stroke=\"transparent\" points=\"-4,4 -4,-388 274.1892,-388 274.1892,4 -4,4\"/>\n",
       "<!-- root -->\n",
       "<g id=\"node1\" class=\"node\">\n",
       "<title>root</title>\n",
       "<ellipse fill=\"none\" stroke=\"#000000\" cx=\"198.7434\" cy=\"-366\" rx=\"27\" ry=\"18\"/>\n",
       "<text text-anchor=\"middle\" x=\"198.7434\" y=\"-362.3\" font-family=\"Times,serif\" font-size=\"14.00\" fill=\"#000000\">root</text>\n",
       "</g>\n",
       "<!-- session -->\n",
       "<g id=\"node2\" class=\"node\">\n",
       "<title>session</title>\n",
       "<ellipse fill=\"none\" stroke=\"#000000\" cx=\"198.7434\" cy=\"-279\" rx=\"36.2938\" ry=\"18\"/>\n",
       "<text text-anchor=\"middle\" x=\"198.7434\" y=\"-275.3\" font-family=\"Times,serif\" font-size=\"14.00\" fill=\"#000000\">session</text>\n",
       "</g>\n",
       "<!-- root&#45;&gt;session -->\n",
       "<g id=\"edge1\" class=\"edge\">\n",
       "<title>root&#45;&gt;session</title>\n",
       "<path fill=\"none\" stroke=\"#000000\" d=\"M198.7434,-347.9735C198.7434,-336.1918 198.7434,-320.5607 198.7434,-307.1581\"/>\n",
       "<polygon fill=\"#000000\" stroke=\"#000000\" points=\"202.2435,-307.0033 198.7434,-297.0034 195.2435,-307.0034 202.2435,-307.0033\"/>\n",
       "<text text-anchor=\"middle\" x=\"202.2434\" y=\"-318.8\" font-family=\"Times,serif\" font-size=\"14.00\" fill=\"#000000\">*</text>\n",
       "</g>\n",
       "<!-- event -->\n",
       "<g id=\"node3\" class=\"node\">\n",
       "<title>event</title>\n",
       "<ellipse fill=\"none\" stroke=\"#000000\" cx=\"127.7434\" cy=\"-192\" rx=\"29.795\" ry=\"18\"/>\n",
       "<text text-anchor=\"middle\" x=\"127.7434\" y=\"-188.3\" font-family=\"Times,serif\" font-size=\"14.00\" fill=\"#000000\">event</text>\n",
       "</g>\n",
       "<!-- session&#45;&gt;event -->\n",
       "<g id=\"edge2\" class=\"edge\">\n",
       "<title>session&#45;&gt;event</title>\n",
       "<path fill=\"none\" stroke=\"#000000\" d=\"M185.0539,-262.2255C174.4767,-249.2647 159.6819,-231.136 147.774,-216.5446\"/>\n",
       "<polygon fill=\"#000000\" stroke=\"#000000\" points=\"150.1844,-213.9625 141.1501,-208.4279 144.7611,-218.3884 150.1844,-213.9625\"/>\n",
       "<text text-anchor=\"middle\" x=\"171.2434\" y=\"-231.8\" font-family=\"Times,serif\" font-size=\"14.00\" fill=\"#000000\">*</text>\n",
       "</g>\n",
       "<!-- session_id -->\n",
       "<g id=\"node4\" class=\"node\">\n",
       "<title>session_id</title>\n",
       "<ellipse fill=\"none\" stroke=\"#000000\" cx=\"222.7434\" cy=\"-192\" rx=\"47.3916\" ry=\"18\"/>\n",
       "<text text-anchor=\"middle\" x=\"222.7434\" y=\"-188.3\" font-family=\"Times,serif\" font-size=\"14.00\" fill=\"#000000\">session_id</text>\n",
       "</g>\n",
       "<!-- session&#45;&gt;session_id -->\n",
       "<g id=\"edge3\" class=\"edge\">\n",
       "<title>session&#45;&gt;session_id</title>\n",
       "<path fill=\"none\" stroke=\"#000000\" d=\"M203.7162,-260.9735C206.9985,-249.0751 211.3639,-233.2508 215.0853,-219.7606\"/>\n",
       "<polygon fill=\"#000000\" stroke=\"#000000\" points=\"218.4915,-220.5741 217.7769,-210.0034 211.7436,-218.7125 218.4915,-220.5741\"/>\n",
       "<text text-anchor=\"middle\" x=\"215.2434\" y=\"-231.8\" font-family=\"Times,serif\" font-size=\"14.00\" fill=\"#000000\">?</text>\n",
       "</g>\n",
       "<!-- action -->\n",
       "<g id=\"node5\" class=\"node\">\n",
       "<title>action</title>\n",
       "<ellipse fill=\"none\" stroke=\"#000000\" cx=\"74.7434\" cy=\"-105\" rx=\"32.4942\" ry=\"18\"/>\n",
       "<text text-anchor=\"middle\" x=\"74.7434\" y=\"-101.3\" font-family=\"Times,serif\" font-size=\"14.00\" fill=\"#000000\">action</text>\n",
       "</g>\n",
       "<!-- event&#45;&gt;action -->\n",
       "<g id=\"edge4\" class=\"edge\">\n",
       "<title>event&#45;&gt;action</title>\n",
       "<path fill=\"none\" stroke=\"#000000\" d=\"M117.2723,-174.8116C109.6502,-162.3 99.1944,-145.1366 90.5576,-130.9592\"/>\n",
       "<polygon fill=\"#000000\" stroke=\"#000000\" points=\"93.3844,-128.8719 85.1927,-122.1527 87.4063,-132.5137 93.3844,-128.8719\"/>\n",
       "<text text-anchor=\"middle\" x=\"108.2434\" y=\"-144.8\" font-family=\"Times,serif\" font-size=\"14.00\" fill=\"#000000\">*</text>\n",
       "</g>\n",
       "<!-- query_token -->\n",
       "<g id=\"node6\" class=\"node\">\n",
       "<title>query_token</title>\n",
       "<ellipse fill=\"none\" stroke=\"#000000\" cx=\"179.7434\" cy=\"-105\" rx=\"54.6905\" ry=\"18\"/>\n",
       "<text text-anchor=\"middle\" x=\"179.7434\" y=\"-101.3\" font-family=\"Times,serif\" font-size=\"14.00\" fill=\"#000000\">query_token</text>\n",
       "</g>\n",
       "<!-- event&#45;&gt;query_token -->\n",
       "<g id=\"edge5\" class=\"edge\">\n",
       "<title>event&#45;&gt;query_token</title>\n",
       "<path fill=\"none\" stroke=\"#000000\" d=\"M138.0169,-174.8116C145.398,-162.4624 155.4877,-145.5816 163.8965,-131.513\"/>\n",
       "<polygon fill=\"#000000\" stroke=\"#000000\" points=\"167.008,-133.1293 169.1342,-122.75 160.9994,-129.538 167.008,-133.1293\"/>\n",
       "<text text-anchor=\"middle\" x=\"161.2434\" y=\"-144.8\" font-family=\"Times,serif\" font-size=\"14.00\" fill=\"#000000\">*</text>\n",
       "</g>\n",
       "<!-- number_of_views -->\n",
       "<g id=\"node7\" class=\"node\">\n",
       "<title>number_of_views</title>\n",
       "<ellipse fill=\"none\" stroke=\"#000000\" cx=\"74.7434\" cy=\"-18\" rx=\"74.9875\" ry=\"18\"/>\n",
       "<text text-anchor=\"middle\" x=\"74.7434\" y=\"-14.3\" font-family=\"Times,serif\" font-size=\"14.00\" fill=\"#000000\">number_of_views</text>\n",
       "</g>\n",
       "<!-- action&#45;&gt;number_of_views -->\n",
       "<g id=\"edge6\" class=\"edge\">\n",
       "<title>action&#45;&gt;number_of_views</title>\n",
       "<path fill=\"none\" stroke=\"#000000\" d=\"M74.7434,-86.9735C74.7434,-75.1918 74.7434,-59.5607 74.7434,-46.1581\"/>\n",
       "<polygon fill=\"#000000\" stroke=\"#000000\" points=\"78.2435,-46.0033 74.7434,-36.0034 71.2435,-46.0034 78.2435,-46.0033\"/>\n",
       "<text text-anchor=\"middle\" x=\"78.2434\" y=\"-57.8\" font-family=\"Times,serif\" font-size=\"14.00\" fill=\"#000000\">?</text>\n",
       "</g>\n",
       "</g>\n",
       "</svg>\n"
      ],
      "text/plain": [
       "<graphviz.files.Source at 0x7fabc4187b38>"
      ]
     },
     "execution_count": 5,
     "metadata": {},
     "output_type": "execute_result"
    }
   ],
   "source": [
    "#@title { display-mode: \"form\" }\n",
    "\n",
    "_display(\"\"\"\n",
    "digraph {\n",
    "  root -> session [label=\"*\"];\n",
    "  session -> event [label=\"*\"];\n",
    "  session -> session_id [label=\"?\"];\n",
    "  event -> action [label=\"*\"];\n",
    "  event -> query_token [label=\"*\"]\n",
    "  action -> number_of_views [label=\"?\"];\n",
    "}\n",
    "\"\"\")\n"
   ]
  },
  {
   "cell_type": "markdown",
   "metadata": {
    "colab_type": "text",
    "id": "P0aBK7NbO0wp"
   },
   "source": [
    "We will be using visualizations like this to demostrate struct2tensor queries later.\n",
    "\n",
    "Note:\n",
    "\n",
    "* The \"*\" on the edge means the pointed node has repeated values; while the \"?\" means it has an optional value.\n",
    "* There is always a \"root\" node whose only child is the root of the structure. Note that it's \"repeated\" because one struct2tensorTree can represent multiple instances of a structure.\n",
    "\n"
   ]
  },
  {
   "cell_type": "markdown",
   "metadata": {
    "colab_type": "text",
    "id": "5stZYn1dBXdl"
   },
   "source": [
    "\n",
    "### struct2tensor Query\n",
    "A struct2tensor query transforms a Prensor into another Prensor.\n",
    "\n",
    "For example, `broadcast` is a query that replicates a node as a child of one of its siblings.\n",
    "\n",
    "Applying\n",
    "```\n",
    "broadcast(\n",
    "    source_path=\"session.session_id\",\n",
    "    sibling=\"event\",\n",
    "    new_field_name=\"session_session_id\")\n",
    "```\n",
    "\n",
    "on the previous tree gives:\n",
    "\n"
   ]
  },
  {
   "cell_type": "code",
   "execution_count": 6,
   "metadata": {
    "colab": {
     "height": 552
    },
    "colab_type": "code",
    "executionInfo": {
     "elapsed": 1594,
     "status": "ok",
     "timestamp": 1549908471104,
     "user": {
      "displayName": "",
      "photoUrl": "",
      "userId": ""
     },
     "user_tz": 480
    },
    "id": "zfhF-frzPxZm",
    "outputId": "c2fd2528-dfca-4dc6-8cc2-48ae1cdbcc60"
   },
   "outputs": [
    {
     "data": {
      "image/svg+xml": [
       "<?xml version=\"1.0\" encoding=\"UTF-8\" standalone=\"no\"?>\n",
       "<!DOCTYPE svg PUBLIC \"-//W3C//DTD SVG 1.1//EN\"\n",
       " \"http://www.w3.org/Graphics/SVG/1.1/DTD/svg11.dtd\">\n",
       "<!-- Generated by graphviz version 2.40.1 (20161225.0304)\n",
       " -->\n",
       "<!-- Title: %3 Pages: 1 -->\n",
       "<svg width=\"373pt\" height=\"392pt\"\n",
       " viewBox=\"0.00 0.00 372.94 392.00\" xmlns=\"http://www.w3.org/2000/svg\" xmlns:xlink=\"http://www.w3.org/1999/xlink\">\n",
       "<g id=\"graph0\" class=\"graph\" transform=\"scale(1 1) rotate(0) translate(4 388)\">\n",
       "<title>%3</title>\n",
       "<polygon fill=\"#ffffff\" stroke=\"transparent\" points=\"-4,4 -4,-388 368.9383,-388 368.9383,4 -4,4\"/>\n",
       "<!-- session_session_id -->\n",
       "<g id=\"node1\" class=\"node\">\n",
       "<title>session_session_id</title>\n",
       "<ellipse fill=\"none\" stroke=\"#ff0000\" cx=\"77.3431\" cy=\"-105\" rx=\"77.1866\" ry=\"18\"/>\n",
       "<text text-anchor=\"middle\" x=\"77.3431\" y=\"-101.3\" font-family=\"Times,serif\" font-size=\"14.00\" fill=\"#000000\">session_session_id</text>\n",
       "</g>\n",
       "<!-- root -->\n",
       "<g id=\"node2\" class=\"node\">\n",
       "<title>root</title>\n",
       "<ellipse fill=\"none\" stroke=\"#000000\" cx=\"253.3431\" cy=\"-366\" rx=\"27\" ry=\"18\"/>\n",
       "<text text-anchor=\"middle\" x=\"253.3431\" y=\"-362.3\" font-family=\"Times,serif\" font-size=\"14.00\" fill=\"#000000\">root</text>\n",
       "</g>\n",
       "<!-- session -->\n",
       "<g id=\"node3\" class=\"node\">\n",
       "<title>session</title>\n",
       "<ellipse fill=\"none\" stroke=\"#000000\" cx=\"253.3431\" cy=\"-279\" rx=\"36.2938\" ry=\"18\"/>\n",
       "<text text-anchor=\"middle\" x=\"253.3431\" y=\"-275.3\" font-family=\"Times,serif\" font-size=\"14.00\" fill=\"#000000\">session</text>\n",
       "</g>\n",
       "<!-- root&#45;&gt;session -->\n",
       "<g id=\"edge1\" class=\"edge\">\n",
       "<title>root&#45;&gt;session</title>\n",
       "<path fill=\"none\" stroke=\"#000000\" d=\"M253.3431,-347.9735C253.3431,-336.1918 253.3431,-320.5607 253.3431,-307.1581\"/>\n",
       "<polygon fill=\"#000000\" stroke=\"#000000\" points=\"256.8432,-307.0033 253.3431,-297.0034 249.8432,-307.0034 256.8432,-307.0033\"/>\n",
       "<text text-anchor=\"middle\" x=\"256.8431\" y=\"-318.8\" font-family=\"Times,serif\" font-size=\"14.00\" fill=\"#000000\">*</text>\n",
       "</g>\n",
       "<!-- event -->\n",
       "<g id=\"node4\" class=\"node\">\n",
       "<title>event</title>\n",
       "<ellipse fill=\"none\" stroke=\"#000000\" cx=\"205.3431\" cy=\"-192\" rx=\"29.795\" ry=\"18\"/>\n",
       "<text text-anchor=\"middle\" x=\"205.3431\" y=\"-188.3\" font-family=\"Times,serif\" font-size=\"14.00\" fill=\"#000000\">event</text>\n",
       "</g>\n",
       "<!-- session&#45;&gt;event -->\n",
       "<g id=\"edge2\" class=\"edge\">\n",
       "<title>session&#45;&gt;event</title>\n",
       "<path fill=\"none\" stroke=\"#000000\" d=\"M243.6296,-261.3943C236.8188,-249.0496 227.5945,-232.3306 219.9067,-218.3965\"/>\n",
       "<polygon fill=\"#000000\" stroke=\"#000000\" points=\"222.7737,-216.3477 214.8784,-209.2827 216.6447,-219.7292 222.7737,-216.3477\"/>\n",
       "<text text-anchor=\"middle\" x=\"235.8431\" y=\"-231.8\" font-family=\"Times,serif\" font-size=\"14.00\" fill=\"#000000\">*</text>\n",
       "</g>\n",
       "<!-- session_id -->\n",
       "<g id=\"node5\" class=\"node\">\n",
       "<title>session_id</title>\n",
       "<ellipse fill=\"none\" stroke=\"#000000\" cx=\"300.3431\" cy=\"-192\" rx=\"47.3916\" ry=\"18\"/>\n",
       "<text text-anchor=\"middle\" x=\"300.3431\" y=\"-188.3\" font-family=\"Times,serif\" font-size=\"14.00\" fill=\"#000000\">session_id</text>\n",
       "</g>\n",
       "<!-- session&#45;&gt;session_id -->\n",
       "<g id=\"edge3\" class=\"edge\">\n",
       "<title>session&#45;&gt;session_id</title>\n",
       "<path fill=\"none\" stroke=\"#000000\" d=\"M262.8543,-261.3943C269.4361,-249.211 278.3196,-232.7669 285.787,-218.9443\"/>\n",
       "<polygon fill=\"#000000\" stroke=\"#000000\" points=\"289.0111,-220.34 290.6848,-209.8782 282.8523,-217.0128 289.0111,-220.34\"/>\n",
       "<text text-anchor=\"middle\" x=\"283.8431\" y=\"-231.8\" font-family=\"Times,serif\" font-size=\"14.00\" fill=\"#000000\">?</text>\n",
       "</g>\n",
       "<!-- event&#45;&gt;session_session_id -->\n",
       "<g id=\"edge5\" class=\"edge\">\n",
       "<title>event&#45;&gt;session_session_id</title>\n",
       "<path fill=\"none\" stroke=\"#000000\" d=\"M185.3431,-178.4063C165.4293,-164.8711 134.4999,-143.8488 110.8352,-127.7641\"/>\n",
       "<polygon fill=\"#000000\" stroke=\"#000000\" points=\"112.7171,-124.8113 102.4791,-122.0846 108.7821,-130.6006 112.7171,-124.8113\"/>\n",
       "<text text-anchor=\"middle\" x=\"152.8431\" y=\"-144.8\" font-family=\"Times,serif\" font-size=\"14.00\" fill=\"#000000\">?</text>\n",
       "</g>\n",
       "<!-- action -->\n",
       "<g id=\"node6\" class=\"node\">\n",
       "<title>action</title>\n",
       "<ellipse fill=\"none\" stroke=\"#000000\" cx=\"205.3431\" cy=\"-105\" rx=\"32.4942\" ry=\"18\"/>\n",
       "<text text-anchor=\"middle\" x=\"205.3431\" y=\"-101.3\" font-family=\"Times,serif\" font-size=\"14.00\" fill=\"#000000\">action</text>\n",
       "</g>\n",
       "<!-- event&#45;&gt;action -->\n",
       "<g id=\"edge4\" class=\"edge\">\n",
       "<title>event&#45;&gt;action</title>\n",
       "<path fill=\"none\" stroke=\"#000000\" d=\"M205.3431,-173.9735C205.3431,-162.1918 205.3431,-146.5607 205.3431,-133.1581\"/>\n",
       "<polygon fill=\"#000000\" stroke=\"#000000\" points=\"208.8432,-133.0033 205.3431,-123.0034 201.8432,-133.0034 208.8432,-133.0033\"/>\n",
       "<text text-anchor=\"middle\" x=\"208.8431\" y=\"-144.8\" font-family=\"Times,serif\" font-size=\"14.00\" fill=\"#000000\">*</text>\n",
       "</g>\n",
       "<!-- query_token -->\n",
       "<g id=\"node7\" class=\"node\">\n",
       "<title>query_token</title>\n",
       "<ellipse fill=\"none\" stroke=\"#000000\" cx=\"310.3431\" cy=\"-105\" rx=\"54.6905\" ry=\"18\"/>\n",
       "<text text-anchor=\"middle\" x=\"310.3431\" y=\"-101.3\" font-family=\"Times,serif\" font-size=\"14.00\" fill=\"#000000\">query_token</text>\n",
       "</g>\n",
       "<!-- event&#45;&gt;query_token -->\n",
       "<g id=\"edge6\" class=\"edge\">\n",
       "<title>event&#45;&gt;query_token</title>\n",
       "<path fill=\"none\" stroke=\"#000000\" d=\"M223.155,-177.2416C239.2607,-163.8969 263.2498,-144.0202 281.9905,-128.4922\"/>\n",
       "<polygon fill=\"#000000\" stroke=\"#000000\" points=\"284.4558,-130.9949 289.9229,-121.9196 279.9896,-125.6047 284.4558,-130.9949\"/>\n",
       "<text text-anchor=\"middle\" x=\"267.8431\" y=\"-144.8\" font-family=\"Times,serif\" font-size=\"14.00\" fill=\"#000000\">*</text>\n",
       "</g>\n",
       "<!-- number_of_views -->\n",
       "<g id=\"node8\" class=\"node\">\n",
       "<title>number_of_views</title>\n",
       "<ellipse fill=\"none\" stroke=\"#000000\" cx=\"205.3431\" cy=\"-18\" rx=\"74.9875\" ry=\"18\"/>\n",
       "<text text-anchor=\"middle\" x=\"205.3431\" y=\"-14.3\" font-family=\"Times,serif\" font-size=\"14.00\" fill=\"#000000\">number_of_views</text>\n",
       "</g>\n",
       "<!-- action&#45;&gt;number_of_views -->\n",
       "<g id=\"edge7\" class=\"edge\">\n",
       "<title>action&#45;&gt;number_of_views</title>\n",
       "<path fill=\"none\" stroke=\"#000000\" d=\"M205.3431,-86.9735C205.3431,-75.1918 205.3431,-59.5607 205.3431,-46.1581\"/>\n",
       "<polygon fill=\"#000000\" stroke=\"#000000\" points=\"208.8432,-46.0033 205.3431,-36.0034 201.8432,-46.0034 208.8432,-46.0033\"/>\n",
       "<text text-anchor=\"middle\" x=\"208.8431\" y=\"-57.8\" font-family=\"Times,serif\" font-size=\"14.00\" fill=\"#000000\">?</text>\n",
       "</g>\n",
       "</g>\n",
       "</svg>\n"
      ],
      "text/plain": [
       "<graphviz.files.Source at 0x7fac9b5e7080>"
      ]
     },
     "execution_count": 6,
     "metadata": {},
     "output_type": "execute_result"
    }
   ],
   "source": [
    "#@title { display-mode: \"form\" }\n",
    "\n",
    "_display(\"\"\"\n",
    "digraph {\n",
    "  session_session_id [color=\"red\"];\n",
    "  root -> session [label=\"*\"];\n",
    "  session -> event [label=\"*\"];\n",
    "  session -> session_id [label=\"?\"];\n",
    "  event -> action [label=\"*\"];\n",
    "  event -> session_session_id [label=\"?\"];\n",
    "  event -> query_token [label=\"*\"];\n",
    "  action -> number_of_views [label=\"?\"];\n",
    "}\n",
    "\"\"\")\n"
   ]
  },
  {
   "cell_type": "markdown",
   "metadata": {
    "colab_type": "text",
    "id": "eOHokTjBPyHW"
   },
   "source": [
    "We will talk about common struct2tensor queries in later sections.\n",
    "\n",
    "### Projection\n",
    "A projection of paths in a Prensor produces another Prensor with just the selected paths.\n",
    "\n",
    "#### Logical representation of a projection\n",
    "The structure of the projected path can be represented losslessly as nested lists. For example, the projection of `event.action.number_of_views` from the struct2tensorTree formed by the following two instances of `struct2tensor.test.Session`:\n",
    "```\n",
    "{\n",
    "  event { action { number_of_views: 1} action { number_of_views: 2} action {} }\n",
    "  event {}\n",
    "}, {\n",
    "  event { action { number_of_views: 3} }\n",
    "}\n",
    "```\n",
    "\n",
    "is:\n",
    "\n",
    "```\n",
    "[  # the outer list has two elements b/c there are two Session protos.\n",
    " [  # the first proto has two events\n",
    "   [[1],[2],[]],  # 3 actions, the last one does not have a number_of_views.\n",
    "   [], # the second event does not have action\n",
    " ],\n",
    " [ # the second proto has one event\n",
    "   [[3]],\n",
    " ],\n",
    "]\n",
    "```\n",
    "\n",
    "#### Representing nested lists with `tf.SparseTensor`\n",
    "\n",
    "struct2tensor uses `tf.SparseTensor` to represent the above nested list in the projection results. Note that `tf.SparseTensor` essentially enforces that the lists nested at the same level to have the same length (because the there is a certain size for each dimension), therefore this representation is lossy. The above nested lists, when written as a SparseTensor will look like:\n",
    "```\n",
    "tf.SparseTensor(\n",
    "  dense_shape=[2, 2, 3, 1],  # each is the maximum length of lists at the same nesting level.\n",
    "  values = [1, 2, 3],\n",
    "  indices = [[0, 0, 0, 0], [0, 0, 1, 0], [1, 0, 0, 0]]\n",
    ")\n",
    "```\n",
    "\n",
    "Note that the last dimension is useless: the index of that dimension will always be 0 for any present value because number_of_views is an optional field. So struct2tensors library will actually \"squeeze\" all the optional dimensions.\n",
    "\n",
    "The actual result would be:"
   ]
  },
  {
   "cell_type": "code",
   "execution_count": 7,
   "metadata": {
    "colab": {
     "height": 53
    },
    "colab_type": "code",
    "executionInfo": {
     "elapsed": 336,
     "status": "ok",
     "timestamp": 1549908471462,
     "user": {
      "displayName": "",
      "photoUrl": "",
      "userId": ""
     },
     "user_tz": 480
    },
    "id": "XvuEY3D3WIP7",
    "outputId": "b770d4b5-c709-40d7-f802-1d0b750f6139"
   },
   "outputs": [
    {
     "name": "stdout",
     "output_type": "stream",
     "text": [
      "[{event.action.number_of_views: SparseTensor(values=[1, 2, 3], dense_shape=[2, 2, 3], \n",
      "     indices=[[0, 0, 0], [0, 0, 1], [1, 0, 0]])}\n",
      "]\n"
     ]
    }
   ],
   "source": [
    "query = _create_query_from_text_sessions(['''\n",
    "  event { action { number_of_views: 1} action { number_of_views: 2} action {} }\n",
    "  event {}\n",
    "  ''', '''\n",
    "  event { action { number_of_views: 3} }\n",
    "  ''']\n",
    "  ).project([\"event.action.number_of_views\"])\n",
    "\n",
    "prensor = calculate_prensors([query])\n",
    "pretty.pprint(prensor)"
   ]
  },
  {
   "cell_type": "markdown",
   "metadata": {
    "colab_type": "text",
    "id": "iaailOJhWLLa"
   },
   "source": [
    "struct2tensor's internal data model is closer to the above \"nested lists\" abstraction and sometimes it's easier to reason with \"nested lists\" than with `SparseTensor`s.\n",
    "\n",
    "Recently, [`tf.RaggedTensor`](https://www.tensorflow.org/guide/ragged_tensors) was introduced to represent nested lists exactly. We are working on adding support for projecting into ragged tensors."
   ]
  },
  {
   "cell_type": "markdown",
   "metadata": {
    "colab_type": "text",
    "id": "UD48ikK4Eop-"
   },
   "source": [
    "## Common struct2tensor Queries\n",
    "\n",
    "### `promote`\n",
    "\n",
    "Promotes a node to become a sibling of its parent. If the node is repeated, then all its values are concatenated (the order is preserved)."
   ]
  },
  {
   "cell_type": "code",
   "execution_count": 8,
   "metadata": {
    "colab": {
     "height": 433
    },
    "colab_type": "code",
    "executionInfo": {
     "elapsed": 1779,
     "status": "ok",
     "timestamp": 1549908473297,
     "user": {
      "displayName": "",
      "photoUrl": "",
      "userId": ""
     },
     "user_tz": 480
    },
    "id": "tnbD2lKoDbsk",
    "outputId": "fd9a3b56-e798-4926-8247-883c46a738be"
   },
   "outputs": [
    {
     "data": {
      "image/svg+xml": [
       "<?xml version=\"1.0\" encoding=\"UTF-8\" standalone=\"no\"?>\n",
       "<!DOCTYPE svg PUBLIC \"-//W3C//DTD SVG 1.1//EN\"\n",
       " \"http://www.w3.org/Graphics/SVG/1.1/DTD/svg11.dtd\">\n",
       "<!-- Generated by graphviz version 2.40.1 (20161225.0304)\n",
       " -->\n",
       "<!-- Title: %3 Pages: 1 -->\n",
       "<svg width=\"117pt\" height=\"305pt\"\n",
       " viewBox=\"0.00 0.00 117.19 305.00\" xmlns=\"http://www.w3.org/2000/svg\" xmlns:xlink=\"http://www.w3.org/1999/xlink\">\n",
       "<g id=\"graph0\" class=\"graph\" transform=\"scale(1 1) rotate(0) translate(4 301)\">\n",
       "<title>%3</title>\n",
       "<polygon fill=\"#ffffff\" stroke=\"transparent\" points=\"-4,4 -4,-301 113.1903,-301 113.1903,4 -4,4\"/>\n",
       "<!-- root -->\n",
       "<g id=\"node1\" class=\"node\">\n",
       "<title>root</title>\n",
       "<ellipse fill=\"none\" stroke=\"#000000\" cx=\"54.5952\" cy=\"-279\" rx=\"27\" ry=\"18\"/>\n",
       "<text text-anchor=\"middle\" x=\"54.5952\" y=\"-275.3\" font-family=\"Times,serif\" font-size=\"14.00\" fill=\"#000000\">root</text>\n",
       "</g>\n",
       "<!-- session -->\n",
       "<g id=\"node2\" class=\"node\">\n",
       "<title>session</title>\n",
       "<ellipse fill=\"none\" stroke=\"#000000\" cx=\"54.5952\" cy=\"-192\" rx=\"36.2938\" ry=\"18\"/>\n",
       "<text text-anchor=\"middle\" x=\"54.5952\" y=\"-188.3\" font-family=\"Times,serif\" font-size=\"14.00\" fill=\"#000000\">session</text>\n",
       "</g>\n",
       "<!-- root&#45;&gt;session -->\n",
       "<g id=\"edge1\" class=\"edge\">\n",
       "<title>root&#45;&gt;session</title>\n",
       "<path fill=\"none\" stroke=\"#000000\" d=\"M54.5952,-260.9735C54.5952,-249.1918 54.5952,-233.5607 54.5952,-220.1581\"/>\n",
       "<polygon fill=\"#000000\" stroke=\"#000000\" points=\"58.0953,-220.0033 54.5952,-210.0034 51.0953,-220.0034 58.0953,-220.0033\"/>\n",
       "<text text-anchor=\"middle\" x=\"58.0952\" y=\"-231.8\" font-family=\"Times,serif\" font-size=\"14.00\" fill=\"#000000\">*</text>\n",
       "</g>\n",
       "<!-- event -->\n",
       "<g id=\"node3\" class=\"node\">\n",
       "<title>event</title>\n",
       "<ellipse fill=\"none\" stroke=\"#000000\" cx=\"54.5952\" cy=\"-105\" rx=\"29.795\" ry=\"18\"/>\n",
       "<text text-anchor=\"middle\" x=\"54.5952\" y=\"-101.3\" font-family=\"Times,serif\" font-size=\"14.00\" fill=\"#000000\">event</text>\n",
       "</g>\n",
       "<!-- session&#45;&gt;event -->\n",
       "<g id=\"edge2\" class=\"edge\">\n",
       "<title>session&#45;&gt;event</title>\n",
       "<path fill=\"none\" stroke=\"#000000\" d=\"M54.5952,-173.9735C54.5952,-162.1918 54.5952,-146.5607 54.5952,-133.1581\"/>\n",
       "<polygon fill=\"#000000\" stroke=\"#000000\" points=\"58.0953,-133.0033 54.5952,-123.0034 51.0953,-133.0034 58.0953,-133.0033\"/>\n",
       "<text text-anchor=\"middle\" x=\"58.0952\" y=\"-144.8\" font-family=\"Times,serif\" font-size=\"14.00\" fill=\"#000000\">*</text>\n",
       "</g>\n",
       "<!-- query_token -->\n",
       "<g id=\"node4\" class=\"node\">\n",
       "<title>query_token</title>\n",
       "<ellipse fill=\"none\" stroke=\"#000000\" cx=\"54.5952\" cy=\"-18\" rx=\"54.6905\" ry=\"18\"/>\n",
       "<text text-anchor=\"middle\" x=\"54.5952\" y=\"-14.3\" font-family=\"Times,serif\" font-size=\"14.00\" fill=\"#000000\">query_token</text>\n",
       "</g>\n",
       "<!-- event&#45;&gt;query_token -->\n",
       "<g id=\"edge3\" class=\"edge\">\n",
       "<title>event&#45;&gt;query_token</title>\n",
       "<path fill=\"none\" stroke=\"#000000\" d=\"M54.5952,-86.9735C54.5952,-75.1918 54.5952,-59.5607 54.5952,-46.1581\"/>\n",
       "<polygon fill=\"#000000\" stroke=\"#000000\" points=\"58.0953,-46.0033 54.5952,-36.0034 51.0953,-46.0034 58.0953,-46.0033\"/>\n",
       "<text text-anchor=\"middle\" x=\"58.0952\" y=\"-57.8\" font-family=\"Times,serif\" font-size=\"14.00\" fill=\"#000000\">*</text>\n",
       "</g>\n",
       "</g>\n",
       "</svg>\n"
      ],
      "text/plain": [
       "<graphviz.files.Source at 0x7fabc4187860>"
      ]
     },
     "execution_count": 8,
     "metadata": {},
     "output_type": "execute_result"
    }
   ],
   "source": [
    "#@title { display-mode: \"form\" }\n",
    "_display('''\n",
    "digraph {\n",
    "  root -> session [label=\"*\"];\n",
    "  session -> event [label=\"*\"];\n",
    "  event -> query_token [label=\"*\"];\n",
    "}\n",
    "''')"
   ]
  },
  {
   "cell_type": "markdown",
   "metadata": {
    "colab_type": "text",
    "id": "OOgJlcHPDyIk"
   },
   "source": [
    "`promote(source_path=\"event.query_token\", new_field_name=\"event_query_token\")`"
   ]
  },
  {
   "cell_type": "code",
   "execution_count": 9,
   "metadata": {
    "colab": {
     "height": 433
    },
    "colab_type": "code",
    "executionInfo": {
     "elapsed": 1637,
     "status": "ok",
     "timestamp": 1549908474968,
     "user": {
      "displayName": "",
      "photoUrl": "",
      "userId": ""
     },
     "user_tz": 480
    },
    "id": "xKJ_EraVHyUA",
    "outputId": "d247492b-d8d6-4502-af55-5480d2628df3"
   },
   "outputs": [
    {
     "data": {
      "image/svg+xml": [
       "<?xml version=\"1.0\" encoding=\"UTF-8\" standalone=\"no\"?>\n",
       "<!DOCTYPE svg PUBLIC \"-//W3C//DTD SVG 1.1//EN\"\n",
       " \"http://www.w3.org/Graphics/SVG/1.1/DTD/svg11.dtd\">\n",
       "<!-- Generated by graphviz version 2.40.1 (20161225.0304)\n",
       " -->\n",
       "<!-- Title: %3 Pages: 1 -->\n",
       "<svg width=\"267pt\" height=\"305pt\"\n",
       " viewBox=\"0.00 0.00 266.59 305.00\" xmlns=\"http://www.w3.org/2000/svg\" xmlns:xlink=\"http://www.w3.org/1999/xlink\">\n",
       "<g id=\"graph0\" class=\"graph\" transform=\"scale(1 1) rotate(0) translate(4 301)\">\n",
       "<title>%3</title>\n",
       "<polygon fill=\"#ffffff\" stroke=\"transparent\" points=\"-4,4 -4,-301 262.5882,-301 262.5882,4 -4,4\"/>\n",
       "<!-- event_query_token -->\n",
       "<g id=\"node1\" class=\"node\">\n",
       "<title>event_query_token</title>\n",
       "<ellipse fill=\"none\" stroke=\"#ff0000\" cx=\"77.9931\" cy=\"-105\" rx=\"77.9862\" ry=\"18\"/>\n",
       "<text text-anchor=\"middle\" x=\"77.9931\" y=\"-101.3\" font-family=\"Times,serif\" font-size=\"14.00\" fill=\"#000000\">event_query_token</text>\n",
       "</g>\n",
       "<!-- root -->\n",
       "<g id=\"node2\" class=\"node\">\n",
       "<title>root</title>\n",
       "<ellipse fill=\"none\" stroke=\"#000000\" cx=\"92.9931\" cy=\"-279\" rx=\"27\" ry=\"18\"/>\n",
       "<text text-anchor=\"middle\" x=\"92.9931\" y=\"-275.3\" font-family=\"Times,serif\" font-size=\"14.00\" fill=\"#000000\">root</text>\n",
       "</g>\n",
       "<!-- session -->\n",
       "<g id=\"node3\" class=\"node\">\n",
       "<title>session</title>\n",
       "<ellipse fill=\"none\" stroke=\"#000000\" cx=\"92.9931\" cy=\"-192\" rx=\"36.2938\" ry=\"18\"/>\n",
       "<text text-anchor=\"middle\" x=\"92.9931\" y=\"-188.3\" font-family=\"Times,serif\" font-size=\"14.00\" fill=\"#000000\">session</text>\n",
       "</g>\n",
       "<!-- root&#45;&gt;session -->\n",
       "<g id=\"edge1\" class=\"edge\">\n",
       "<title>root&#45;&gt;session</title>\n",
       "<path fill=\"none\" stroke=\"#000000\" d=\"M92.9931,-260.9735C92.9931,-249.1918 92.9931,-233.5607 92.9931,-220.1581\"/>\n",
       "<polygon fill=\"#000000\" stroke=\"#000000\" points=\"96.4932,-220.0033 92.9931,-210.0034 89.4932,-220.0034 96.4932,-220.0033\"/>\n",
       "<text text-anchor=\"middle\" x=\"96.4931\" y=\"-231.8\" font-family=\"Times,serif\" font-size=\"14.00\" fill=\"#000000\">*</text>\n",
       "</g>\n",
       "<!-- session&#45;&gt;event_query_token -->\n",
       "<g id=\"edge3\" class=\"edge\">\n",
       "<title>session&#45;&gt;event_query_token</title>\n",
       "<path fill=\"none\" stroke=\"#000000\" d=\"M89.8851,-173.9735C87.8537,-162.1918 85.1587,-146.5607 82.8479,-133.1581\"/>\n",
       "<polygon fill=\"#000000\" stroke=\"#000000\" points=\"86.2454,-132.2633 81.0971,-123.0034 79.3471,-133.4527 86.2454,-132.2633\"/>\n",
       "<text text-anchor=\"middle\" x=\"90.4931\" y=\"-144.8\" font-family=\"Times,serif\" font-size=\"14.00\" fill=\"#000000\">*</text>\n",
       "</g>\n",
       "<!-- event -->\n",
       "<g id=\"node4\" class=\"node\">\n",
       "<title>event</title>\n",
       "<ellipse fill=\"none\" stroke=\"#000000\" cx=\"203.9931\" cy=\"-105\" rx=\"29.795\" ry=\"18\"/>\n",
       "<text text-anchor=\"middle\" x=\"203.9931\" y=\"-101.3\" font-family=\"Times,serif\" font-size=\"14.00\" fill=\"#000000\">event</text>\n",
       "</g>\n",
       "<!-- session&#45;&gt;event -->\n",
       "<g id=\"edge2\" class=\"edge\">\n",
       "<title>session&#45;&gt;event</title>\n",
       "<path fill=\"none\" stroke=\"#000000\" d=\"M112.5821,-176.6464C130.6623,-162.4755 157.653,-141.3206 177.6225,-125.6688\"/>\n",
       "<polygon fill=\"#000000\" stroke=\"#000000\" points=\"179.993,-128.2578 185.7045,-119.3343 175.6748,-122.7484 179.993,-128.2578\"/>\n",
       "<text text-anchor=\"middle\" x=\"159.4931\" y=\"-144.8\" font-family=\"Times,serif\" font-size=\"14.00\" fill=\"#000000\">*</text>\n",
       "</g>\n",
       "<!-- query_token -->\n",
       "<g id=\"node5\" class=\"node\">\n",
       "<title>query_token</title>\n",
       "<ellipse fill=\"none\" stroke=\"#000000\" cx=\"203.9931\" cy=\"-18\" rx=\"54.6905\" ry=\"18\"/>\n",
       "<text text-anchor=\"middle\" x=\"203.9931\" y=\"-14.3\" font-family=\"Times,serif\" font-size=\"14.00\" fill=\"#000000\">query_token</text>\n",
       "</g>\n",
       "<!-- event&#45;&gt;query_token -->\n",
       "<g id=\"edge4\" class=\"edge\">\n",
       "<title>event&#45;&gt;query_token</title>\n",
       "<path fill=\"none\" stroke=\"#000000\" d=\"M203.9931,-86.9735C203.9931,-75.1918 203.9931,-59.5607 203.9931,-46.1581\"/>\n",
       "<polygon fill=\"#000000\" stroke=\"#000000\" points=\"207.4932,-46.0033 203.9931,-36.0034 200.4932,-46.0034 207.4932,-46.0033\"/>\n",
       "<text text-anchor=\"middle\" x=\"207.4931\" y=\"-57.8\" font-family=\"Times,serif\" font-size=\"14.00\" fill=\"#000000\">*</text>\n",
       "</g>\n",
       "</g>\n",
       "</svg>\n"
      ],
      "text/plain": [
       "<graphviz.files.Source at 0x7fac9b5e7ef0>"
      ]
     },
     "execution_count": 9,
     "metadata": {},
     "output_type": "execute_result"
    }
   ],
   "source": [
    "#@title { display-mode: \"form\" }\n",
    "_display('''\n",
    "digraph {\n",
    "  event_query_token [color=\"red\"];\n",
    "  root -> session [label=\"*\"];\n",
    "  session -> event [label=\"*\"];\n",
    "  session -> event_query_token [label=\"*\"];\n",
    "  event -> query_token [label=\"*\"];\n",
    "}\n",
    "''')"
   ]
  },
  {
   "cell_type": "code",
   "execution_count": 10,
   "metadata": {
    "colab": {
     "height": 53
    },
    "colab_type": "code",
    "executionInfo": {
     "elapsed": 330,
     "status": "ok",
     "timestamp": 1549908475351,
     "user": {
      "displayName": "",
      "photoUrl": "",
      "userId": ""
     },
     "user_tz": 480
    },
    "id": "oQCcVWd-JDT9",
    "outputId": "89ae45e0-cf94-4f49-e74f-4b94bf85a50c"
   },
   "outputs": [
    {
     "name": "stdout",
     "output_type": "stream",
     "text": [
      "[{event_query_token: SparseTensor(values=[b'abc', b'def', b'ghi'], dense_shape=[1, 3], \n",
      "     indices=[[0, 0], [0, 1], [0, 2]])}\n",
      "]\n"
     ]
    }
   ],
   "source": [
    "query = (_create_query_from_text_sessions([\n",
    "\"\"\"\n",
    "event {\n",
    "  query_token: \"abc\"\n",
    "  query_token: \"def\"\n",
    "}\n",
    "event {\n",
    "  query_token: \"ghi\"\n",
    "}\n",
    "\"\"\"])\n",
    "        .promote(source_path=\"event.query_token\", new_field_name=\"event_query_token\")\n",
    "        .project([\"event_query_token\"]))\n",
    "\n",
    "prensor = calculate_prensors([query])\n",
    "\n",
    "_pretty_print(prensor)"
   ]
  },
  {
   "cell_type": "markdown",
   "metadata": {
    "colab_type": "text",
    "id": "av9km5d_KM8o"
   },
   "source": [
    "The projected structure is like:\n",
    "```\n",
    "{\n",
    "  # this is under Session.\n",
    "  event_query_token: \"abc\"\n",
    "  event_query_token: \"def\"\n",
    "  event_query_token: \"ghi\"\n",
    "}\n",
    "```"
   ]
  },
  {
   "cell_type": "markdown",
   "metadata": {
    "colab_type": "text",
    "id": "t2BU8warKqFm"
   },
   "source": [
    "### `broadcast`\n",
    "\n",
    "Broadcasts the value of a node to one of its sibling. The value will be replicated if the sibling is repeated. This is similar to Tensorflow and Numpy's [broadcasting semantics](https://docs.scipy.org/doc/numpy-1.13.0/user/basics.broadcasting.html).\n"
   ]
  },
  {
   "cell_type": "code",
   "execution_count": 11,
   "metadata": {
    "colab": {
     "height": 316
    },
    "colab_type": "code",
    "executionInfo": {
     "elapsed": 1612,
     "status": "ok",
     "timestamp": 1549908477037,
     "user": {
      "displayName": "",
      "photoUrl": "",
      "userId": ""
     },
     "user_tz": 480
    },
    "id": "1hFGEV0DMmOo",
    "outputId": "0b5255ea-356f-4df2-d069-f5dd1ef5b917"
   },
   "outputs": [
    {
     "data": {
      "image/svg+xml": [
       "<?xml version=\"1.0\" encoding=\"UTF-8\" standalone=\"no\"?>\n",
       "<!DOCTYPE svg PUBLIC \"-//W3C//DTD SVG 1.1//EN\"\n",
       " \"http://www.w3.org/Graphics/SVG/1.1/DTD/svg11.dtd\">\n",
       "<!-- Generated by graphviz version 2.40.1 (20161225.0304)\n",
       " -->\n",
       "<!-- Title: %3 Pages: 1 -->\n",
       "<svg width=\"180pt\" height=\"218pt\"\n",
       " viewBox=\"0.00 0.00 180.34 218.00\" xmlns=\"http://www.w3.org/2000/svg\" xmlns:xlink=\"http://www.w3.org/1999/xlink\">\n",
       "<g id=\"graph0\" class=\"graph\" transform=\"scale(1 1) rotate(0) translate(4 214)\">\n",
       "<title>%3</title>\n",
       "<polygon fill=\"#ffffff\" stroke=\"transparent\" points=\"-4,4 -4,-214 176.3431,-214 176.3431,4 -4,4\"/>\n",
       "<!-- root -->\n",
       "<g id=\"node1\" class=\"node\">\n",
       "<title>root</title>\n",
       "<ellipse fill=\"none\" stroke=\"#000000\" cx=\"94.4458\" cy=\"-192\" rx=\"27\" ry=\"18\"/>\n",
       "<text text-anchor=\"middle\" x=\"94.4458\" y=\"-188.3\" font-family=\"Times,serif\" font-size=\"14.00\" fill=\"#000000\">root</text>\n",
       "</g>\n",
       "<!-- session -->\n",
       "<g id=\"node2\" class=\"node\">\n",
       "<title>session</title>\n",
       "<ellipse fill=\"none\" stroke=\"#000000\" cx=\"94.4458\" cy=\"-105\" rx=\"36.2938\" ry=\"18\"/>\n",
       "<text text-anchor=\"middle\" x=\"94.4458\" y=\"-101.3\" font-family=\"Times,serif\" font-size=\"14.00\" fill=\"#000000\">session</text>\n",
       "</g>\n",
       "<!-- root&#45;&gt;session -->\n",
       "<g id=\"edge1\" class=\"edge\">\n",
       "<title>root&#45;&gt;session</title>\n",
       "<path fill=\"none\" stroke=\"#000000\" d=\"M94.4458,-173.9735C94.4458,-162.1918 94.4458,-146.5607 94.4458,-133.1581\"/>\n",
       "<polygon fill=\"#000000\" stroke=\"#000000\" points=\"97.9459,-133.0033 94.4458,-123.0034 90.9459,-133.0034 97.9459,-133.0033\"/>\n",
       "<text text-anchor=\"middle\" x=\"97.9458\" y=\"-144.8\" font-family=\"Times,serif\" font-size=\"14.00\" fill=\"#000000\">*</text>\n",
       "</g>\n",
       "<!-- session_id -->\n",
       "<g id=\"node3\" class=\"node\">\n",
       "<title>session_id</title>\n",
       "<ellipse fill=\"none\" stroke=\"#000000\" cx=\"47.4458\" cy=\"-18\" rx=\"47.3916\" ry=\"18\"/>\n",
       "<text text-anchor=\"middle\" x=\"47.4458\" y=\"-14.3\" font-family=\"Times,serif\" font-size=\"14.00\" fill=\"#000000\">session_id</text>\n",
       "</g>\n",
       "<!-- session&#45;&gt;session_id -->\n",
       "<g id=\"edge2\" class=\"edge\">\n",
       "<title>session&#45;&gt;session_id</title>\n",
       "<path fill=\"none\" stroke=\"#000000\" d=\"M84.9346,-87.3943C78.3529,-75.211 69.4693,-58.7669 62.0019,-44.9443\"/>\n",
       "<polygon fill=\"#000000\" stroke=\"#000000\" points=\"64.9366,-43.0128 57.1041,-35.8782 58.7778,-46.34 64.9366,-43.0128\"/>\n",
       "<text text-anchor=\"middle\" x=\"77.9458\" y=\"-57.8\" font-family=\"Times,serif\" font-size=\"14.00\" fill=\"#000000\">?</text>\n",
       "</g>\n",
       "<!-- event -->\n",
       "<g id=\"node4\" class=\"node\">\n",
       "<title>event</title>\n",
       "<ellipse fill=\"none\" stroke=\"#000000\" cx=\"142.4458\" cy=\"-18\" rx=\"29.795\" ry=\"18\"/>\n",
       "<text text-anchor=\"middle\" x=\"142.4458\" y=\"-14.3\" font-family=\"Times,serif\" font-size=\"14.00\" fill=\"#000000\">event</text>\n",
       "</g>\n",
       "<!-- session&#45;&gt;event -->\n",
       "<g id=\"edge3\" class=\"edge\">\n",
       "<title>session&#45;&gt;event</title>\n",
       "<path fill=\"none\" stroke=\"#000000\" d=\"M104.1593,-87.3943C110.9701,-75.0496 120.1944,-58.3306 127.8822,-44.3965\"/>\n",
       "<polygon fill=\"#000000\" stroke=\"#000000\" points=\"131.1442,-45.7292 132.9105,-35.2827 125.0152,-42.3477 131.1442,-45.7292\"/>\n",
       "<text text-anchor=\"middle\" x=\"123.9458\" y=\"-57.8\" font-family=\"Times,serif\" font-size=\"14.00\" fill=\"#000000\">*</text>\n",
       "</g>\n",
       "</g>\n",
       "</svg>\n"
      ],
      "text/plain": [
       "<graphviz.files.Source at 0x7fabbee0c8d0>"
      ]
     },
     "execution_count": 11,
     "metadata": {},
     "output_type": "execute_result"
    }
   ],
   "source": [
    "#@title { display-mode: \"form\" }\n",
    "_display('''\n",
    "digraph {\n",
    "  root -> session [label=\"*\"];\n",
    "  session -> session_id [label=\"?\"];\n",
    "  session -> event [label=\"*\"];\n",
    "}\n",
    "''')"
   ]
  },
  {
   "cell_type": "markdown",
   "metadata": {
    "colab_type": "text",
    "id": "DvBCsWBuNDKV"
   },
   "source": [
    "`broadcast(source_path=\"session_id\", sibling_field=\"event\", new_field_name=\"session_session_id\")`"
   ]
  },
  {
   "cell_type": "code",
   "execution_count": 12,
   "metadata": {
    "colab": {
     "height": 433
    },
    "colab_type": "code",
    "executionInfo": {
     "elapsed": 1633,
     "status": "ok",
     "timestamp": 1549908478700,
     "user": {
      "displayName": "",
      "photoUrl": "",
      "userId": ""
     },
     "user_tz": 480
    },
    "id": "wTUHyGvSNMGp",
    "outputId": "07854e3a-d9bf-471f-d720-1b0d09e03dbb"
   },
   "outputs": [
    {
     "data": {
      "image/svg+xml": [
       "<?xml version=\"1.0\" encoding=\"UTF-8\" standalone=\"no\"?>\n",
       "<!DOCTYPE svg PUBLIC \"-//W3C//DTD SVG 1.1//EN\"\n",
       " \"http://www.w3.org/Graphics/SVG/1.1/DTD/svg11.dtd\">\n",
       "<!-- Generated by graphviz version 2.40.1 (20161225.0304)\n",
       " -->\n",
       "<!-- Title: %3 Pages: 1 -->\n",
       "<svg width=\"228pt\" height=\"305pt\"\n",
       " viewBox=\"0.00 0.00 227.79 305.00\" xmlns=\"http://www.w3.org/2000/svg\" xmlns:xlink=\"http://www.w3.org/1999/xlink\">\n",
       "<g id=\"graph0\" class=\"graph\" transform=\"scale(1 1) rotate(0) translate(4 301)\">\n",
       "<title>%3</title>\n",
       "<polygon fill=\"#ffffff\" stroke=\"transparent\" points=\"-4,4 -4,-301 223.7889,-301 223.7889,4 -4,4\"/>\n",
       "<!-- session_session_id -->\n",
       "<g id=\"node1\" class=\"node\">\n",
       "<title>session_session_id</title>\n",
       "<ellipse fill=\"none\" stroke=\"#ff0000\" cx=\"142.4458\" cy=\"-18\" rx=\"77.1866\" ry=\"18\"/>\n",
       "<text text-anchor=\"middle\" x=\"142.4458\" y=\"-14.3\" font-family=\"Times,serif\" font-size=\"14.00\" fill=\"#000000\">session_session_id</text>\n",
       "</g>\n",
       "<!-- root -->\n",
       "<g id=\"node2\" class=\"node\">\n",
       "<title>root</title>\n",
       "<ellipse fill=\"none\" stroke=\"#000000\" cx=\"62.4458\" cy=\"-279\" rx=\"27\" ry=\"18\"/>\n",
       "<text text-anchor=\"middle\" x=\"62.4458\" y=\"-275.3\" font-family=\"Times,serif\" font-size=\"14.00\" fill=\"#000000\">root</text>\n",
       "</g>\n",
       "<!-- session -->\n",
       "<g id=\"node3\" class=\"node\">\n",
       "<title>session</title>\n",
       "<ellipse fill=\"none\" stroke=\"#000000\" cx=\"62.4458\" cy=\"-192\" rx=\"36.2938\" ry=\"18\"/>\n",
       "<text text-anchor=\"middle\" x=\"62.4458\" y=\"-188.3\" font-family=\"Times,serif\" font-size=\"14.00\" fill=\"#000000\">session</text>\n",
       "</g>\n",
       "<!-- root&#45;&gt;session -->\n",
       "<g id=\"edge1\" class=\"edge\">\n",
       "<title>root&#45;&gt;session</title>\n",
       "<path fill=\"none\" stroke=\"#000000\" d=\"M62.4458,-260.9735C62.4458,-249.1918 62.4458,-233.5607 62.4458,-220.1581\"/>\n",
       "<polygon fill=\"#000000\" stroke=\"#000000\" points=\"65.9459,-220.0033 62.4458,-210.0034 58.9459,-220.0034 65.9459,-220.0033\"/>\n",
       "<text text-anchor=\"middle\" x=\"65.9458\" y=\"-231.8\" font-family=\"Times,serif\" font-size=\"14.00\" fill=\"#000000\">*</text>\n",
       "</g>\n",
       "<!-- session_id -->\n",
       "<g id=\"node4\" class=\"node\">\n",
       "<title>session_id</title>\n",
       "<ellipse fill=\"none\" stroke=\"#000000\" cx=\"47.4458\" cy=\"-105\" rx=\"47.3916\" ry=\"18\"/>\n",
       "<text text-anchor=\"middle\" x=\"47.4458\" y=\"-101.3\" font-family=\"Times,serif\" font-size=\"14.00\" fill=\"#000000\">session_id</text>\n",
       "</g>\n",
       "<!-- session&#45;&gt;session_id -->\n",
       "<g id=\"edge2\" class=\"edge\">\n",
       "<title>session&#45;&gt;session_id</title>\n",
       "<path fill=\"none\" stroke=\"#000000\" d=\"M59.3378,-173.9735C57.3064,-162.1918 54.6114,-146.5607 52.3006,-133.1581\"/>\n",
       "<polygon fill=\"#000000\" stroke=\"#000000\" points=\"55.6981,-132.2633 50.5498,-123.0034 48.7999,-133.4527 55.6981,-132.2633\"/>\n",
       "<text text-anchor=\"middle\" x=\"59.9458\" y=\"-144.8\" font-family=\"Times,serif\" font-size=\"14.00\" fill=\"#000000\">?</text>\n",
       "</g>\n",
       "<!-- event -->\n",
       "<g id=\"node5\" class=\"node\">\n",
       "<title>event</title>\n",
       "<ellipse fill=\"none\" stroke=\"#000000\" cx=\"142.4458\" cy=\"-105\" rx=\"29.795\" ry=\"18\"/>\n",
       "<text text-anchor=\"middle\" x=\"142.4458\" y=\"-101.3\" font-family=\"Times,serif\" font-size=\"14.00\" fill=\"#000000\">event</text>\n",
       "</g>\n",
       "<!-- session&#45;&gt;event -->\n",
       "<g id=\"edge3\" class=\"edge\">\n",
       "<title>session&#45;&gt;event</title>\n",
       "<path fill=\"none\" stroke=\"#000000\" d=\"M77.8706,-175.2255C90.0532,-161.977 107.2013,-143.3284 120.7649,-128.578\"/>\n",
       "<polygon fill=\"#000000\" stroke=\"#000000\" points=\"123.6848,-130.5734 127.8772,-120.8433 118.5321,-125.8353 123.6848,-130.5734\"/>\n",
       "<text text-anchor=\"middle\" x=\"110.9458\" y=\"-144.8\" font-family=\"Times,serif\" font-size=\"14.00\" fill=\"#000000\">*</text>\n",
       "</g>\n",
       "<!-- event&#45;&gt;session_session_id -->\n",
       "<g id=\"edge4\" class=\"edge\">\n",
       "<title>event&#45;&gt;session_session_id</title>\n",
       "<path fill=\"none\" stroke=\"#000000\" d=\"M142.4458,-86.9735C142.4458,-75.1918 142.4458,-59.5607 142.4458,-46.1581\"/>\n",
       "<polygon fill=\"#000000\" stroke=\"#000000\" points=\"145.9459,-46.0033 142.4458,-36.0034 138.9459,-46.0034 145.9459,-46.0033\"/>\n",
       "<text text-anchor=\"middle\" x=\"145.9458\" y=\"-57.8\" font-family=\"Times,serif\" font-size=\"14.00\" fill=\"#000000\">?</text>\n",
       "</g>\n",
       "</g>\n",
       "</svg>\n"
      ],
      "text/plain": [
       "<graphviz.files.Source at 0x7fabbee0c550>"
      ]
     },
     "execution_count": 12,
     "metadata": {},
     "output_type": "execute_result"
    }
   ],
   "source": [
    "#@title { display-mode: \"form\" }\n",
    "_display('''\n",
    "digraph {\n",
    "  session_session_id [color=\"red\"];\n",
    "  root -> session [label=\"*\"];\n",
    "  session -> session_id [label=\"?\"];\n",
    "  session -> event [label=\"*\"];\n",
    "  event -> session_session_id [label=\"?\"];\n",
    "}\n",
    "''')"
   ]
  },
  {
   "cell_type": "code",
   "execution_count": 13,
   "metadata": {
    "colab": {
     "height": 53
    },
    "colab_type": "code",
    "executionInfo": {
     "elapsed": 335,
     "status": "ok",
     "timestamp": 1549908479070,
     "user": {
      "displayName": "",
      "photoUrl": "",
      "userId": ""
     },
     "user_tz": 480
    },
    "id": "wQE_ceMzNjzv",
    "outputId": "2900462c-c4f6-4645-86fe-0b996f1d7fa8"
   },
   "outputs": [
    {
     "name": "stdout",
     "output_type": "stream",
     "text": [
      "[{event.session_session_id: SparseTensor(values=[8, 8], dense_shape=[1, 2], \n",
      "     indices=[[0, 0], [0, 1]])}\n",
      "]\n"
     ]
    }
   ],
   "source": [
    "query = (_create_query_from_text_sessions([\n",
    "\"\"\"\n",
    "session_id: 8\n",
    "event { }\n",
    "event { }\n",
    "\"\"\"])\n",
    "        .broadcast(source_path=\"session_id\",\n",
    "                   sibling_field=\"event\",\n",
    "                   new_field_name=\"session_session_id\")\n",
    "        .project([\"event.session_session_id\"]))\n",
    "\n",
    "prensor = calculate_prensors([query])\n",
    "_pretty_print(prensor)"
   ]
  },
  {
   "cell_type": "markdown",
   "metadata": {
    "colab_type": "text",
    "id": "7fL8pmsQObUT"
   },
   "source": [
    "The projected structure is like:\n",
    "```\n",
    "{\n",
    "  event {\n",
    "    session_session_id: 8\n",
    "  }\n",
    "  event {\n",
    "    session_session_id: 8\n",
    "  }\n",
    "}\n",
    "```"
   ]
  },
  {
   "cell_type": "markdown",
   "metadata": {
    "colab_type": "text",
    "id": "Ch2WgR9AP23Q"
   },
   "source": [
    "### `promote_and_broadcast`\n",
    "The query accepts multiple source fields and a destination field. For each source field, it first promotes it to the least common ancestor with the destination field (if necessary), then broadcasts it to the destination field (if necessary).\n",
    "\n",
    "Usually for the purpose of machine learning, this gives a reasonable flattened representation of nested structures."
   ]
  },
  {
   "cell_type": "markdown",
   "metadata": {
    "colab_type": "text",
    "id": "-uNfasxgRsvO"
   },
   "source": [
    "```\n",
    "promote_and_broadcast(\n",
    "    path_dictionary={\n",
    "        'session_info_duration_sec': 'session_info.session_duration_sec'},\n",
    "    dest_path_parent='event.action')\n",
    "```\n",
    "is equivalent to:\n",
    "```\n",
    "promote(source_path='session_info.session_duration_sec',\n",
    "    new_field_name='anonymous_field1')\n",
    "\n",
    "broadcast(source_path='anonymous_field1',\n",
    "    sibling_field='event.action',\n",
    "    new_field_name='session_info_duration_sec')\n",
    "```\n"
   ]
  },
  {
   "cell_type": "markdown",
   "metadata": {
    "colab_type": "text",
    "id": "rYkWc_u8SR_k"
   },
   "source": [
    "### `map_field_values`\n",
    "\n",
    "Creates a new node that is a sibling of a leaf node. The values of the new node are results of applying the given function to the values of the source node.\n",
    "\n",
    "Note that the function provided takes 1-D tensor that contains all the values of the source node as input and should also output a 1-D tensor of the same size, and it should build TF ops.\n"
   ]
  },
  {
   "cell_type": "code",
   "execution_count": 14,
   "metadata": {
    "colab": {
     "height": 53
    },
    "colab_type": "code",
    "executionInfo": {
     "elapsed": 338,
     "status": "ok",
     "timestamp": 1549908479467,
     "user": {
      "displayName": "",
      "photoUrl": "",
      "userId": ""
     },
     "user_tz": 480
    },
    "id": "DWjA2OFcS4k1",
    "outputId": "e63ab82c-d12e-46e3-8e21-6a4361228f6e"
   },
   "outputs": [
    {
     "name": "stdout",
     "output_type": "stream",
     "text": [
      "[{session_id_plus_one: SparseTensor(values=[9, 10], dense_shape=[2], \n",
      "     indices=[[0], [1]])}\n",
      "]\n"
     ]
    }
   ],
   "source": [
    "query = (_create_query_from_text_sessions([\n",
    "\"\"\"\n",
    "session_id: 8\n",
    "\"\"\",\n",
    "\"\"\"\n",
    "session_id: 9\n",
    "\"\"\"])\n",
    "        .map_field_values(\"session_id\", lambda x: tf.add(x, 1), dtype=tf.int64,\n",
    "                          new_field_name=\"session_id_plus_one\")\n",
    "        .project([\"session_id_plus_one\"]))\n",
    "    \n",
    "prensor = calculate_prensors([query])\n",
    "\n",
    "_pretty_print(prensor)"
   ]
  },
  {
   "cell_type": "markdown",
   "metadata": {
    "colab_type": "text",
    "id": "_NusnDa1T7s5"
   },
   "source": [
    "### `reroot`\n",
    "\n",
    "Makes the given node the new root of the struct2tensorTree. This has two effects:\n",
    "\n",
    "* restricts the scope of the struct2tensorTree\n",
    "  + The field paths in all the following queries are relative to the new root\n",
    "  + There's no way to refer to nodes that are outside the subtree rooted at the new root.\n",
    "* changes the batch dimension.\n"
   ]
  },
  {
   "cell_type": "code",
   "execution_count": 15,
   "metadata": {
    "colab": {
     "height": 433
    },
    "colab_type": "code",
    "executionInfo": {
     "elapsed": 1897,
     "status": "ok",
     "timestamp": 1549908481417,
     "user": {
      "displayName": "",
      "photoUrl": "",
      "userId": ""
     },
     "user_tz": 480
    },
    "id": "OBNPdOlQU6qS",
    "outputId": "b9c41e03-f06f-447d-f547-fb5385e7ffd8"
   },
   "outputs": [
    {
     "data": {
      "image/svg+xml": [
       "<?xml version=\"1.0\" encoding=\"UTF-8\" standalone=\"no\"?>\n",
       "<!DOCTYPE svg PUBLIC \"-//W3C//DTD SVG 1.1//EN\"\n",
       " \"http://www.w3.org/Graphics/SVG/1.1/DTD/svg11.dtd\">\n",
       "<!-- Generated by graphviz version 2.40.1 (20161225.0304)\n",
       " -->\n",
       "<!-- Title: %3 Pages: 1 -->\n",
       "<svg width=\"191pt\" height=\"305pt\"\n",
       " viewBox=\"0.00 0.00 191.39 305.00\" xmlns=\"http://www.w3.org/2000/svg\" xmlns:xlink=\"http://www.w3.org/1999/xlink\">\n",
       "<g id=\"graph0\" class=\"graph\" transform=\"scale(1 1) rotate(0) translate(4 301)\">\n",
       "<title>%3</title>\n",
       "<polygon fill=\"#ffffff\" stroke=\"transparent\" points=\"-4,4 -4,-301 187.3922,-301 187.3922,4 -4,4\"/>\n",
       "<!-- root -->\n",
       "<g id=\"node1\" class=\"node\">\n",
       "<title>root</title>\n",
       "<ellipse fill=\"none\" stroke=\"#000000\" cx=\"78.4458\" cy=\"-279\" rx=\"27\" ry=\"18\"/>\n",
       "<text text-anchor=\"middle\" x=\"78.4458\" y=\"-275.3\" font-family=\"Times,serif\" font-size=\"14.00\" fill=\"#000000\">root</text>\n",
       "</g>\n",
       "<!-- session -->\n",
       "<g id=\"node2\" class=\"node\">\n",
       "<title>session</title>\n",
       "<ellipse fill=\"none\" stroke=\"#000000\" cx=\"78.4458\" cy=\"-192\" rx=\"36.2938\" ry=\"18\"/>\n",
       "<text text-anchor=\"middle\" x=\"78.4458\" y=\"-188.3\" font-family=\"Times,serif\" font-size=\"14.00\" fill=\"#000000\">session</text>\n",
       "</g>\n",
       "<!-- root&#45;&gt;session -->\n",
       "<g id=\"edge1\" class=\"edge\">\n",
       "<title>root&#45;&gt;session</title>\n",
       "<path fill=\"none\" stroke=\"#000000\" d=\"M78.4458,-260.9735C78.4458,-249.1918 78.4458,-233.5607 78.4458,-220.1581\"/>\n",
       "<polygon fill=\"#000000\" stroke=\"#000000\" points=\"81.9459,-220.0033 78.4458,-210.0034 74.9459,-220.0034 81.9459,-220.0033\"/>\n",
       "<text text-anchor=\"middle\" x=\"81.9458\" y=\"-231.8\" font-family=\"Times,serif\" font-size=\"14.00\" fill=\"#000000\">*</text>\n",
       "</g>\n",
       "<!-- session_id -->\n",
       "<g id=\"node3\" class=\"node\">\n",
       "<title>session_id</title>\n",
       "<ellipse fill=\"none\" stroke=\"#000000\" cx=\"47.4458\" cy=\"-105\" rx=\"47.3916\" ry=\"18\"/>\n",
       "<text text-anchor=\"middle\" x=\"47.4458\" y=\"-101.3\" font-family=\"Times,serif\" font-size=\"14.00\" fill=\"#000000\">session_id</text>\n",
       "</g>\n",
       "<!-- session&#45;&gt;session_id -->\n",
       "<g id=\"edge2\" class=\"edge\">\n",
       "<title>session&#45;&gt;session_id</title>\n",
       "<path fill=\"none\" stroke=\"#000000\" d=\"M72.0226,-173.9735C67.7829,-162.0751 62.1443,-146.2508 57.3375,-132.7606\"/>\n",
       "<polygon fill=\"#000000\" stroke=\"#000000\" points=\"60.5143,-131.2484 53.8608,-123.0034 53.9204,-133.598 60.5143,-131.2484\"/>\n",
       "<text text-anchor=\"middle\" x=\"67.9458\" y=\"-144.8\" font-family=\"Times,serif\" font-size=\"14.00\" fill=\"#000000\">?</text>\n",
       "</g>\n",
       "<!-- event -->\n",
       "<g id=\"node4\" class=\"node\">\n",
       "<title>event</title>\n",
       "<ellipse fill=\"none\" stroke=\"#000000\" cx=\"142.4458\" cy=\"-105\" rx=\"29.795\" ry=\"18\"/>\n",
       "<text text-anchor=\"middle\" x=\"142.4458\" y=\"-101.3\" font-family=\"Times,serif\" font-size=\"14.00\" fill=\"#000000\">event</text>\n",
       "</g>\n",
       "<!-- session&#45;&gt;event -->\n",
       "<g id=\"edge3\" class=\"edge\">\n",
       "<title>session&#45;&gt;event</title>\n",
       "<path fill=\"none\" stroke=\"#000000\" d=\"M91.0901,-174.8116C100.5024,-162.0168 113.4933,-144.3572 124.0541,-130.0012\"/>\n",
       "<polygon fill=\"#000000\" stroke=\"#000000\" points=\"127.1556,-131.6916 130.262,-121.5624 121.5169,-127.5436 127.1556,-131.6916\"/>\n",
       "<text text-anchor=\"middle\" x=\"116.9458\" y=\"-144.8\" font-family=\"Times,serif\" font-size=\"14.00\" fill=\"#000000\">*</text>\n",
       "</g>\n",
       "<!-- event_id -->\n",
       "<g id=\"node5\" class=\"node\">\n",
       "<title>event_id</title>\n",
       "<ellipse fill=\"none\" stroke=\"#000000\" cx=\"142.4458\" cy=\"-18\" rx=\"40.8928\" ry=\"18\"/>\n",
       "<text text-anchor=\"middle\" x=\"142.4458\" y=\"-14.3\" font-family=\"Times,serif\" font-size=\"14.00\" fill=\"#000000\">event_id</text>\n",
       "</g>\n",
       "<!-- event&#45;&gt;event_id -->\n",
       "<g id=\"edge4\" class=\"edge\">\n",
       "<title>event&#45;&gt;event_id</title>\n",
       "<path fill=\"none\" stroke=\"#000000\" d=\"M142.4458,-86.9735C142.4458,-75.1918 142.4458,-59.5607 142.4458,-46.1581\"/>\n",
       "<polygon fill=\"#000000\" stroke=\"#000000\" points=\"145.9459,-46.0033 142.4458,-36.0034 138.9459,-46.0034 145.9459,-46.0033\"/>\n",
       "<text text-anchor=\"middle\" x=\"145.9458\" y=\"-57.8\" font-family=\"Times,serif\" font-size=\"14.00\" fill=\"#000000\">?</text>\n",
       "</g>\n",
       "</g>\n",
       "</svg>\n"
      ],
      "text/plain": [
       "<graphviz.files.Source at 0x7fabbee230f0>"
      ]
     },
     "execution_count": 15,
     "metadata": {},
     "output_type": "execute_result"
    }
   ],
   "source": [
    "#@title { display-mode: \"form\" }\n",
    "_display('''\n",
    "digraph {\n",
    "  root -> session [label=\"*\"];\n",
    "  session -> session_id [label=\"?\"];\n",
    "  session -> event [label=\"*\"];\n",
    "  event -> event_id [label=\"?\"];\n",
    "}\n",
    "''')"
   ]
  },
  {
   "cell_type": "markdown",
   "metadata": {
    "colab_type": "text",
    "id": "HFlI3zMtU6Ev"
   },
   "source": [
    "`reroot(\"event\")`"
   ]
  },
  {
   "cell_type": "code",
   "execution_count": 16,
   "metadata": {
    "colab": {
     "height": 316
    },
    "colab_type": "code",
    "executionInfo": {
     "elapsed": 1620,
     "status": "ok",
     "timestamp": 1549908483051,
     "user": {
      "displayName": "",
      "photoUrl": "",
      "userId": ""
     },
     "user_tz": 480
    },
    "id": "uANFWQA-T68W",
    "outputId": "5c75b81c-06f8-49f1-9502-b2c29336826c"
   },
   "outputs": [
    {
     "data": {
      "image/svg+xml": [
       "<?xml version=\"1.0\" encoding=\"UTF-8\" standalone=\"no\"?>\n",
       "<!DOCTYPE svg PUBLIC \"-//W3C//DTD SVG 1.1//EN\"\n",
       " \"http://www.w3.org/Graphics/SVG/1.1/DTD/svg11.dtd\">\n",
       "<!-- Generated by graphviz version 2.40.1 (20161225.0304)\n",
       " -->\n",
       "<!-- Title: %3 Pages: 1 -->\n",
       "<svg width=\"90pt\" height=\"218pt\"\n",
       " viewBox=\"0.00 0.00 89.89 218.00\" xmlns=\"http://www.w3.org/2000/svg\" xmlns:xlink=\"http://www.w3.org/1999/xlink\">\n",
       "<g id=\"graph0\" class=\"graph\" transform=\"scale(1 1) rotate(0) translate(4 214)\">\n",
       "<title>%3</title>\n",
       "<polygon fill=\"#ffffff\" stroke=\"transparent\" points=\"-4,4 -4,-214 85.8927,-214 85.8927,4 -4,4\"/>\n",
       "<!-- root -->\n",
       "<g id=\"node1\" class=\"node\">\n",
       "<title>root</title>\n",
       "<ellipse fill=\"none\" stroke=\"#000000\" cx=\"40.9464\" cy=\"-192\" rx=\"27\" ry=\"18\"/>\n",
       "<text text-anchor=\"middle\" x=\"40.9464\" y=\"-188.3\" font-family=\"Times,serif\" font-size=\"14.00\" fill=\"#000000\">root</text>\n",
       "</g>\n",
       "<!-- event -->\n",
       "<g id=\"node2\" class=\"node\">\n",
       "<title>event</title>\n",
       "<ellipse fill=\"none\" stroke=\"#000000\" cx=\"40.9464\" cy=\"-105\" rx=\"29.795\" ry=\"18\"/>\n",
       "<text text-anchor=\"middle\" x=\"40.9464\" y=\"-101.3\" font-family=\"Times,serif\" font-size=\"14.00\" fill=\"#000000\">event</text>\n",
       "</g>\n",
       "<!-- root&#45;&gt;event -->\n",
       "<g id=\"edge1\" class=\"edge\">\n",
       "<title>root&#45;&gt;event</title>\n",
       "<path fill=\"none\" stroke=\"#000000\" d=\"M40.9464,-173.9735C40.9464,-162.1918 40.9464,-146.5607 40.9464,-133.1581\"/>\n",
       "<polygon fill=\"#000000\" stroke=\"#000000\" points=\"44.4465,-133.0033 40.9464,-123.0034 37.4465,-133.0034 44.4465,-133.0033\"/>\n",
       "<text text-anchor=\"middle\" x=\"44.4464\" y=\"-144.8\" font-family=\"Times,serif\" font-size=\"14.00\" fill=\"#000000\">*</text>\n",
       "</g>\n",
       "<!-- event_id -->\n",
       "<g id=\"node3\" class=\"node\">\n",
       "<title>event_id</title>\n",
       "<ellipse fill=\"none\" stroke=\"#000000\" cx=\"40.9464\" cy=\"-18\" rx=\"40.8928\" ry=\"18\"/>\n",
       "<text text-anchor=\"middle\" x=\"40.9464\" y=\"-14.3\" font-family=\"Times,serif\" font-size=\"14.00\" fill=\"#000000\">event_id</text>\n",
       "</g>\n",
       "<!-- event&#45;&gt;event_id -->\n",
       "<g id=\"edge2\" class=\"edge\">\n",
       "<title>event&#45;&gt;event_id</title>\n",
       "<path fill=\"none\" stroke=\"#000000\" d=\"M40.9464,-86.9735C40.9464,-75.1918 40.9464,-59.5607 40.9464,-46.1581\"/>\n",
       "<polygon fill=\"#000000\" stroke=\"#000000\" points=\"44.4465,-46.0033 40.9464,-36.0034 37.4465,-46.0034 44.4465,-46.0033\"/>\n",
       "<text text-anchor=\"middle\" x=\"44.4464\" y=\"-57.8\" font-family=\"Times,serif\" font-size=\"14.00\" fill=\"#000000\">?</text>\n",
       "</g>\n",
       "</g>\n",
       "</svg>\n"
      ],
      "text/plain": [
       "<graphviz.files.Source at 0x7fabbedb9898>"
      ]
     },
     "execution_count": 16,
     "metadata": {},
     "output_type": "execute_result"
    }
   ],
   "source": [
    "#@title { display-mode: \"form\" }\n",
    "_display('''\n",
    "digraph {\n",
    "  root -> event [label=\"*\"];\n",
    "  event -> event_id [label=\"?\"];\n",
    "}\n",
    "''')"
   ]
  },
  {
   "cell_type": "code",
   "execution_count": 17,
   "metadata": {
    "colab": {
     "height": 449
    },
    "colab_type": "code",
    "executionInfo": {
     "elapsed": 329,
     "status": "ok",
     "timestamp": 1549908483409,
     "user": {
      "displayName": "",
      "photoUrl": "",
      "userId": ""
     },
     "user_tz": 480
    },
    "id": "lMoeHHllVeet",
    "outputId": "6144d9de-9a9c-4772-9976-f7124de51d79"
   },
   "outputs": [
    {
     "name": "stdout",
     "output_type": "stream",
     "text": [
      "Assume the following Sessions: \n",
      "[session_id: 1\n",
      "event {\n",
      "  event_id: \"a\"\n",
      "}\n",
      "event {\n",
      "  event_id: \"b\"\n",
      "}\n",
      ", session_id: 2\n",
      ", session_id: 3\n",
      "event {\n",
      "  event_id: \"c\"\n",
      "}\n",
      "]\n",
      "\n",
      "\n",
      "project([\"event.event_id\"]) before reroot() (the batch dimension is the index to sessions):\n",
      "[{event.event_id: SparseTensor(values=[b'a', b'b', b'c'], dense_shape=[3, 2], \n",
      "     indices=[[0, 0], [0, 1], [2, 0]])}\n",
      "]\n",
      "\n",
      "\n",
      "project([\"event_id\"]) after reroot() (the batch dimension becomes the index to events):\n",
      "[{event_id: SparseTensor(values=[b'a', b'b', b'c'], dense_shape=[3], \n",
      "     indices=[[0], [1], [2]])}\n",
      "]\n"
     ]
    }
   ],
   "source": [
    "#@title { display-mode: \"form\" }\n",
    "text_protos = [\"\"\"\n",
    "session_id: 1\n",
    "event {\n",
    "  event_id: \"a\"\n",
    "}\n",
    "event {\n",
    "  event_id: \"b\"\n",
    "}\n",
    "\"\"\",\n",
    "\"\"\"\n",
    "session_id: 2\n",
    "\"\"\",\n",
    "\"\"\"\n",
    "session_id: 3\n",
    "event {\n",
    "  event_id: \"c\"\n",
    "}\n",
    "\"\"\"\n",
    "]\n",
    "print(\"\"\"Assume the following Sessions: \"\"\")\n",
    "print([text_format.Merge(p, test_pb2.Session()) for p in text_protos])\n",
    "print(\"\\n\")\n",
    "reroot_example_query = _create_query_from_text_sessions(text_protos)\n",
    "\n",
    "print(\"\"\"project([\"event.event_id\"]) before reroot() (the batch dimension is the index to sessions):\"\"\")\n",
    "_pretty_print(calculate_prensors([reroot_example_query.project([\"event.event_id\"])]))\n",
    "print(\"\\n\")\n",
    "print(\"\"\"project([\"event_id\"]) after reroot() (the batch dimension becomes the index to events):\"\"\")\n",
    "_pretty_print(calculate_prensors([reroot_example_query.reroot(\"event\").project([\"event_id\"])]))"
   ]
  }
 ],
 "metadata": { },
 "nbformat": 4,
 "nbformat_minor": 1
}
